{
 "cells": [
  {
   "cell_type": "code",
   "execution_count": 1,
   "metadata": {},
   "outputs": [
    {
     "name": "stdout",
     "output_type": "stream",
     "text": [
      "<__main__.Dog object at 0x000001B2C29D5988>\n",
      "Dog Name: nu_rung2\n",
      "<__main__.Dog object at 0x000001B2C29D5B08>\n",
      "Dog Name: hin_dung2\n"
     ]
    }
   ],
   "source": [
    "    class Dog:\n",
    "        def __init__(self, name):\n",
    "            self.name = name\n",
    "        def __str__(self):\n",
    "            print(super().__str__())\n",
    "            return f\"Dog Name: {self.name}\"\n",
    "        \n",
    "    my_dog = Dog(\"nu_rung2\")\n",
    "    print(my_dog)\n",
    "\n",
    "    friend_dog = Dog(\"hin_dung2\")\n",
    "    print(friend_dog) #계속 오버라이딩 됨"
   ]
  },
  {
   "cell_type": "code",
   "execution_count": null,
   "metadata": {},
   "outputs": [],
   "source": []
  }
 ],
 "metadata": {
  "kernelspec": {
   "display_name": "Python 3",
   "language": "python",
   "name": "python3"
  },
  "language_info": {
   "codemirror_mode": {
    "name": "ipython",
    "version": 3
   },
   "file_extension": ".py",
   "mimetype": "text/x-python",
   "name": "python",
   "nbconvert_exporter": "python",
   "pygments_lexer": "ipython3",
   "version": "3.7.9 (tags/v3.7.9:13c94747c7, Aug 17 2020, 16:30:00) [MSC v.1900 64 bit (AMD64)]"
  },
  "orig_nbformat": 4,
  "vscode": {
   "interpreter": {
    "hash": "5eab72db04e8a16999cbfacc9084d043aa9d3b081e573e965775c50ac7aee319"
   }
  }
 },
 "nbformat": 4,
 "nbformat_minor": 2
}
